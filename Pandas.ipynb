{
 "cells": [
  {
   "cell_type": "markdown",
   "metadata": {},
   "source": [
    "# DataFrames in Pandas"
   ]
  },
  {
   "cell_type": "code",
   "execution_count": 3,
   "metadata": {},
   "outputs": [
    {
     "name": "stdout",
     "output_type": "stream",
     "text": [
      "     Company\n",
      "0  Microsoft\n",
      "1        TCS\n",
      "2   Facebook\n",
      "3     Google\n",
      "     Company          Founder\n",
      "0  Microsoft       Bill Gates\n",
      "1        TCS        Tata Sons\n",
      "2   Facebook  Mark Zuckerberg\n",
      "3     Google       Larry Page\n"
     ]
    }
   ],
   "source": [
    "# Two-dimensional array, Hetrogeneous data, Size mutable, Values of data Mutable\n",
    "# # pandas.DataFrame( data, index, columns, dtype, copy)\n",
    "import pandas as pd\n",
    "import numpy as np\n",
    "# Using List\n",
    "Companies = [\"Microsoft\", \"TCS\", \"Facebook\", \"Google\"]\n",
    "df = pd.DataFrame(Companies, columns=[\"Company\"])\n",
    "print(df)\n",
    "\n",
    "#Using Dictionary\n",
    "\n",
    "Company = { \"Company\": [\"Microsoft\", \"TCS\", \"Facebook\", \"Google\"], \"Founder\": [\"Bill Gates\", \"Tata Sons\", \"Mark Zuckerberg\", \"Larry Page\"]}\n",
    "Company_Founders = pd.DataFrame(Company) #By default it will take keys as column name\n",
    "print(Company_Founders)\n",
    "\n",
    "# We can also use list of dictionary ,ndarrays, Dictionary of series to make dataframes"
   ]
  },
  {
   "cell_type": "code",
   "execution_count": 38,
   "metadata": {},
   "outputs": [
    {
     "name": "stdout",
     "output_type": "stream",
     "text": [
      "0    Microsoft\n",
      "1          TCS\n",
      "2     Facebook\n",
      "3       Google\n",
      "Name: Company, dtype: object\n",
      "Facebook\n",
      "Using iterrows:\n",
      " Company     Microsoft\n",
      "Founder    Bill Gates\n",
      "Name: 0, dtype: object\n",
      "Using itertuples:\n",
      " Pandas(Index=0, Company='Microsoft', Founder='Bill Gates')\n",
      "Using loc method:\n",
      " Company           Facebook\n",
      "Founder    Mark Zuckerberg\n",
      "Name: 2, dtype: object\n"
     ]
    }
   ],
   "source": [
    "print(Company_Founders[\"Company\"]) #Iteration of Column\n",
    "print(Company_Founders[\"Company\"][2])\n",
    "row = next(Company_Founders.iterrows())[1] #Iteration of Row\n",
    "print(\"Using iterrows:\\n\",row)\n",
    "print(\"Using itertuples:\\n\",next(Company_Founders.itertuples(1)))\n",
    "print(\"Using loc method:\\n\",Company_Founders.loc[2])"
   ]
  },
  {
   "cell_type": "code",
   "execution_count": 41,
   "metadata": {},
   "outputs": [
    {
     "name": "stdout",
     "output_type": "stream",
     "text": [
      "32\n",
      "            Ages\n",
      "count   5.000000\n",
      "mean   28.200000\n",
      "std     3.420526\n",
      "min    23.000000\n",
      "25%    27.000000\n",
      "50%    29.000000\n",
      "75%    30.000000\n",
      "max    32.000000\n"
     ]
    }
   ],
   "source": [
    "Ages = { \"Name\": [\"Rachel\", \"Ross\", \"Tokyo\", \"Rio\", \"Otis\"], \"Ages\": [30, 32, 29, 27, 23]}\n",
    "Age = pd.DataFrame(Ages)\n",
    "print(Age[\"Ages\"].max()) \n",
    "print(Age.describe()) # Basic statistics of the numerical data in dataframe"
   ]
  },
  {
   "cell_type": "code",
   "execution_count": 43,
   "metadata": {},
   "outputs": [
    {
     "name": "stdout",
     "output_type": "stream",
     "text": [
      "     Company          Founder    Name  Ages\n",
      "0  Microsoft       Bill Gates     NaN   NaN\n",
      "1        TCS        Tata Sons     NaN   NaN\n",
      "2   Facebook  Mark Zuckerberg     NaN   NaN\n",
      "3     Google       Larry Page     NaN   NaN\n",
      "0        NaN              NaN  Rachel  30.0\n",
      "1        NaN              NaN    Ross  32.0\n",
      "2        NaN              NaN   Tokyo  29.0\n",
      "3        NaN              NaN     Rio  27.0\n",
      "4        NaN              NaN    Otis  23.0\n",
      "    Company          Founder   Name  Ages\n",
      "1       TCS        Tata Sons    NaN   NaN\n",
      "2  Facebook  Mark Zuckerberg    NaN   NaN\n",
      "3    Google       Larry Page    NaN   NaN\n",
      "1       NaN              NaN   Ross  32.0\n",
      "2       NaN              NaN  Tokyo  29.0\n",
      "3       NaN              NaN    Rio  27.0\n",
      "4       NaN              NaN   Otis  23.0\n"
     ]
    }
   ],
   "source": [
    "df3 = Company_Founders.append(Age) # Appending two dataframes\n",
    "print(df3)\n",
    "df4 = df3.drop(0) # Deletion of rows using labels(index)\n",
    "print(df4)"
   ]
  },
  {
   "cell_type": "markdown",
   "metadata": {},
   "source": [
    "# DataFrame Basic Functionality"
   ]
  },
  {
   "cell_type": "code",
   "execution_count": 21,
   "metadata": {},
   "outputs": [
    {
     "name": "stdout",
     "output_type": "stream",
     "text": [
      "          A         B\n",
      "0  0.456702  0.631895\n",
      "1  0.052284  0.214219\n",
      "2  0.540046  0.752541\n",
      "3  0.697478  0.209131\n",
      "4  0.972084  0.448633\n",
      "Tanspose:\n",
      "           0         1         2         3         4\n",
      "A  0.456702  0.052284  0.540046  0.697478  0.972084\n",
      "B  0.631895  0.214219  0.752541  0.209131  0.448633\n",
      "axes: [RangeIndex(start=0, stop=5, step=1), Index(['A', 'B'], dtype='object')]\n",
      "Checking for empty df: False\n",
      "The dimensions of the object: 2\n",
      "The first two rows of the data series:\n",
      "           A         B\n",
      "0  0.456702  0.631895\n",
      "1  0.052284  0.214219\n"
     ]
    }
   ],
   "source": [
    "numbers = pd.DataFrame({'A' :np.random.rand(5),\n",
    "                       'B' : np.random.rand(5)})\n",
    "print(numbers)\n",
    "\n",
    "print(\"Tanspose:\\n\", numbers.T)\n",
    "print(\"axes:\", numbers.axes)  #Returns the list of the labels of the series.\n",
    "print(\"Checking for empty df:\", numbers.empty)\n",
    "print(\"The dimensions of the object:\", numbers.ndim)\n",
    "print (\"The first two rows of the data series:\\n\", numbers.head(2))  #Similarly for tail() if you want to start from below"
   ]
  },
  {
   "cell_type": "markdown",
   "metadata": {},
   "source": [
    "# Workin With Text Data"
   ]
  },
  {
   "cell_type": "code",
   "execution_count": 31,
   "metadata": {},
   "outputs": [
    {
     "name": "stdout",
     "output_type": "stream",
     "text": [
      "0    Rachel\n",
      "1      Ross\n",
      "2     Tokyo\n",
      "3       Rio\n",
      "4      Otis\n",
      "dtype: object\n",
      "Lower Case\n",
      " 0    rachel\n",
      "1      ross\n",
      "2     tokyo\n",
      "3       rio\n",
      "4      otis\n",
      "dtype: object\n",
      "Length of each element\n",
      " 0    6\n",
      "1    4\n",
      "2    5\n",
      "3    3\n",
      "4    4\n",
      "dtype: int64\n"
     ]
    }
   ],
   "source": [
    "names = pd.Series([\"Rachel\", \"Ross\", \"Tokyo\", \"Rio\", \"Otis\"])\n",
    "print(names) \n",
    "print(\"Lower Case\\n\",names.str.lower())  #Same for uppercase\n",
    "print(\"Length of each element\\n\",names.str.len())"
   ]
  },
  {
   "cell_type": "markdown",
   "metadata": {},
   "source": [
    "# Options And Customization"
   ]
  },
  {
   "cell_type": "code",
   "execution_count": 41,
   "metadata": {},
   "outputs": [
    {
     "name": "stdout",
     "output_type": "stream",
     "text": [
      "60\n",
      "20\n",
      "80\n",
      "60\n",
      "display.max_rows : int\n",
      "    If max_rows is exceeded, switch to truncate view. Depending on\n",
      "    `large_repr`, objects are either centrally truncated or printed as\n",
      "    a summary view. 'None' value means unlimited.\n",
      "\n",
      "    In case python/IPython is running in a terminal and `large_repr`\n",
      "    equals 'truncate' this can be set to 0 and pandas will auto-detect\n",
      "    the height of the terminal and print a truncated object which fits\n",
      "    the screen height. The IPython notebook, IPython qtconsole, or\n",
      "    IDLE do not run in a terminal and hence it is not possible to do\n",
      "    correct auto-detection.\n",
      "    [default: 60] [currently: 60]\n"
     ]
    }
   ],
   "source": [
    "print(pd.get_option(\"display.max_rows\"))  # By default max rows value limit is 80 and for column it is 20\n",
    "print(pd.get_option(\"display.max_columns\"))\n",
    "pd.set_option(\"display.max_rows\",80) # we can change the default number of rows to be displayed\n",
    "print(pd.get_option(\"display.max_rows\"))\n",
    "pd.reset_option(\"display.max_rows\") # we can change the value back to the default number of rows to be displayed\n",
    "print(pd.get_option(\"display.max_rows\"))\n",
    "pd.describe_option(\"display.max_rows\") # describe_option prints the description of the argument."
   ]
  },
  {
   "cell_type": "markdown",
   "metadata": {},
   "source": [
    "# Indexing and Selecting data"
   ]
  },
  {
   "cell_type": "code",
   "execution_count": 46,
   "metadata": {},
   "outputs": [
    {
     "name": "stdout",
     "output_type": "stream",
     "text": [
      "a   -1.349023\n",
      "b    1.363906\n",
      "c   -1.129635\n",
      "d   -0.410142\n",
      "e    1.606984\n",
      "f    0.132780\n",
      "g    1.073345\n",
      "h   -1.350227\n",
      "Name: A, dtype: float64\n",
      "          A         C\n",
      "a -1.349023  0.175006\n",
      "b  1.363906  0.577518\n",
      "c -1.129635 -1.415720\n",
      "d -0.410142 -2.413055\n",
      "e  1.606984  1.886498\n",
      "f  0.132780 -0.873341\n",
      "g  1.073345 -0.274465\n",
      "h -1.350227 -0.754654\n",
      "          A         C\n",
      "a -1.349023  0.175006\n",
      "b  1.363906  0.577518\n",
      "f  0.132780 -0.873341\n",
      "h -1.350227 -0.754654\n",
      "          A         B         C         D\n",
      "a -1.349023  0.336770  0.175006 -1.043561\n",
      "b  1.363906 -0.718010  0.577518 -0.055791\n",
      "c -1.129635  0.808781 -1.415720  0.961798\n",
      "d -0.410142  1.369082 -2.413055  0.217524\n"
     ]
    }
   ],
   "source": [
    "# get the subset of pandas object\n",
    "data = pd.DataFrame(np.random.randn(8, 4),index = ['a','b','c','d','e','f','g','h'], columns = ['A', 'B', 'C', 'D'])\n",
    "print(data.loc[:,'A'])  #select all rows for a specific column\n",
    "print(data.loc[:,['A','C']])  # Select all rows for multiple columns\n",
    "print(data.loc[['a','b','f','h'],['A','C']])  # Select few rows for multiple columns\n",
    "print(data.loc['a':'d'])   # Select range of rows for all columns\n",
    "\n",
    "#iloc()   to get purely integer based indexing\n",
    "#ix()    Besides pure label based and integer based, Pandas provides a hybrid method"
   ]
  },
  {
   "cell_type": "markdown",
   "metadata": {},
   "source": [
    "# Grouping data"
   ]
  },
  {
   "cell_type": "code",
   "execution_count": 51,
   "metadata": {},
   "outputs": [
    {
     "name": "stdout",
     "output_type": "stream",
     "text": [
      "<pandas.core.groupby.generic.DataFrameGroupBy object at 0x000002B3E7B6A070>\n",
      "{'Devils': Int64Index([2, 3], dtype='int64'), 'Kings': Int64Index([4, 6, 7], dtype='int64'), 'Riders': Int64Index([0, 1, 8, 11], dtype='int64'), 'Royals': Int64Index([9, 10], dtype='int64'), 'kings': Int64Index([5], dtype='int64')}\n",
      "{('Devils', 2014): Int64Index([2], dtype='int64'), ('Devils', 2015): Int64Index([3], dtype='int64'), ('Kings', 2014): Int64Index([4], dtype='int64'), ('Kings', 2016): Int64Index([6], dtype='int64'), ('Kings', 2017): Int64Index([7], dtype='int64'), ('Riders', 2014): Int64Index([0], dtype='int64'), ('Riders', 2015): Int64Index([1], dtype='int64'), ('Riders', 2016): Int64Index([8], dtype='int64'), ('Riders', 2017): Int64Index([11], dtype='int64'), ('Royals', 2014): Int64Index([9], dtype='int64'), ('Royals', 2015): Int64Index([10], dtype='int64'), ('kings', 2015): Int64Index([5], dtype='int64')}\n",
      "2014\n",
      "     Team  Rank  Year  Points\n",
      "0  Riders     1  2014     876\n",
      "2  Devils     2  2014     863\n",
      "4   Kings     3  2014     741\n",
      "9  Royals     4  2014     701\n",
      "2015\n",
      "      Team  Rank  Year  Points\n",
      "1   Riders     2  2015     789\n",
      "3   Devils     3  2015     673\n",
      "5    kings     4  2015     812\n",
      "10  Royals     1  2015     804\n",
      "2016\n",
      "     Team  Rank  Year  Points\n",
      "6   Kings     1  2016     756\n",
      "8  Riders     2  2016     694\n",
      "2017\n",
      "      Team  Rank  Year  Points\n",
      "7    Kings     1  2017     788\n",
      "11  Riders     2  2017     690\n",
      "2014\n",
      "      Team  Rank  Year  Points\n",
      "0  Riders     1  2014     876\n",
      "2  Devils     2  2014     863\n",
      "4   Kings     3  2014     741\n",
      "9  Royals     4  2014     701\n"
     ]
    }
   ],
   "source": [
    "ipl_data = {'Team': ['Riders', 'Riders', 'Devils', 'Devils', 'Kings',\n",
    "   'kings', 'Kings', 'Kings', 'Riders', 'Royals', 'Royals', 'Riders'],\n",
    "   'Rank': [1, 2, 2, 3, 3,4 ,1 ,1,2 , 4,1,2],\n",
    "   'Year': [2014,2015,2014,2015,2014,2015,2016,2017,2016,2014,2015,2017],\n",
    "   'Points':[876,789,863,673,741,812,756,788,694,701,804,690]}\n",
    "ipl = pd.DataFrame(ipl_data)\n",
    "\n",
    "print(ipl.groupby('Team'))   # Splitting Data into groups\n",
    "print(ipl.groupby('Team').groups)  #Viewing groups\n",
    "print(ipl.groupby(['Team','Year']).groups)  #Group by with multiple columns\n",
    "\n",
    "# Iterating through groups\n",
    "grouped = ipl.groupby('Year')\n",
    "\n",
    "for name,group in grouped:\n",
    "    print(name)\n",
    "    print(group)\n",
    "\n",
    "print(\"2014\\n\",grouped.get_group(2014))  # we can select a single group."
   ]
  },
  {
   "cell_type": "markdown",
   "metadata": {},
   "source": [
    "# Merging and Joining"
   ]
  },
  {
   "cell_type": "code",
   "execution_count": 54,
   "metadata": {},
   "outputs": [
    {
     "name": "stdout",
     "output_type": "stream",
     "text": [
      "   id  Name_x subject_id_x Name_y subject_id_y\n",
      "0   1    Alex         sub1  Billy         sub2\n",
      "1   2     Amy         sub2  Brian         sub4\n",
      "2   3   Allen         sub4   Bran         sub3\n",
      "3   4   Alice         sub6  Bryce         sub6\n",
      "4   5  Ayoung         sub5  Betty         sub5\n",
      "   id  Name_x subject_id Name_y\n",
      "0   4   Alice       sub6  Bryce\n",
      "1   5  Ayoung       sub5  Betty\n",
      "   id_x  Name_x subject_id  id_y Name_y\n",
      "0     1    Alex       sub1   NaN    NaN\n",
      "1     2     Amy       sub2   1.0  Billy\n",
      "2     3   Allen       sub4   2.0  Brian\n",
      "3     4   Alice       sub6   4.0  Bryce\n",
      "4     5  Ayoung       sub5   5.0  Betty\n"
     ]
    }
   ],
   "source": [
    "left = pd.DataFrame({\n",
    "   'id':[1,2,3,4,5],\n",
    "   'Name': ['Alex', 'Amy', 'Allen', 'Alice', 'Ayoung'],\n",
    "   'subject_id':['sub1','sub2','sub4','sub6','sub5']})\n",
    "right = pd.DataFrame({\n",
    "\t'id':[1,2,3,4,5],\n",
    "   'Name': ['Billy', 'Brian', 'Bran', 'Bryce', 'Betty'],\n",
    "   'subject_id':['sub2','sub4','sub3','sub6','sub5']})\n",
    "print(pd.merge(left,right,on='id'))  #Merge Two DataFrames on a Key\n",
    "print(pd.merge(left,right,on=['id','subject_id']))    #Merge Two DataFrames on Multiple Keys\n",
    "print(pd.merge(left, right, on='subject_id', how='left'))    #for left join\n",
    "# Similarily for outer join ,inner join there how is equal to outer and inner"
   ]
  },
  {
   "cell_type": "markdown",
   "metadata": {},
   "source": [
    "# Concatenation"
   ]
  },
  {
   "cell_type": "code",
   "execution_count": 60,
   "metadata": {},
   "outputs": [
    {
     "name": "stdout",
     "output_type": "stream",
     "text": [
      "     Name subject_id  Marks_scored\n",
      "1    Alex       sub1            98\n",
      "2     Amy       sub2            90\n",
      "3   Allen       sub4            87\n",
      "4   Alice       sub6            69\n",
      "5  Ayoung       sub5            78\n",
      "1   Billy       sub2            89\n",
      "2   Brian       sub4            80\n",
      "3    Bran       sub3            79\n",
      "4   Bryce       sub6            97\n",
      "5   Betty       sub5            88\n",
      "     Name subject_id  Marks_scored\n",
      "0    Alex       sub1            98\n",
      "1     Amy       sub2            90\n",
      "2   Allen       sub4            87\n",
      "3   Alice       sub6            69\n",
      "4  Ayoung       sub5            78\n",
      "5   Billy       sub2            89\n",
      "6   Brian       sub4            80\n",
      "7    Bran       sub3            79\n",
      "8   Bryce       sub6            97\n",
      "9   Betty       sub5            88\n",
      "     Name subject_id  Marks_scored   Name subject_id  Marks_scored\n",
      "1    Alex       sub1            98  Billy       sub2            89\n",
      "2     Amy       sub2            90  Brian       sub4            80\n",
      "3   Allen       sub4            87   Bran       sub3            79\n",
      "4   Alice       sub6            69  Bryce       sub6            97\n",
      "5  Ayoung       sub5            78  Betty       sub5            88\n"
     ]
    }
   ],
   "source": [
    "one = pd.DataFrame({\n",
    "   'Name': ['Alex', 'Amy', 'Allen', 'Alice', 'Ayoung'],\n",
    "   'subject_id':['sub1','sub2','sub4','sub6','sub5'],\n",
    "   'Marks_scored':[98,90,87,69,78]},\n",
    "   index=[1,2,3,4,5])\n",
    "\n",
    "two = pd.DataFrame({\n",
    "   'Name': ['Billy', 'Brian', 'Bran', 'Bryce', 'Betty'],\n",
    "   'subject_id':['sub2','sub4','sub3','sub6','sub5'],\n",
    "   'Marks_scored':[89,80,79,97,88]},\n",
    "   index=[1,2,3,4,5])\n",
    "print(pd.concat([one,two]))   # We also do the same by using one.append(two), append object can take multiple arguments one.append([two,one,two])\n",
    "print(pd.concat([one,two],keys=['x','y'], ignore_index=True))   # to associate specific keys with each of the pieces\n",
    "#  resultant object has to follow its own indexing\n",
    "print(pd.concat([one,two],axis=1))   # if axis=1, then the new columns will be appended"
   ]
  },
  {
   "cell_type": "markdown",
   "metadata": {},
   "source": [
    "# Date Functionality"
   ]
  },
  {
   "cell_type": "code",
   "execution_count": 63,
   "metadata": {},
   "outputs": [
    {
     "name": "stdout",
     "output_type": "stream",
     "text": [
      "DatetimeIndex(['2021-01-01', '2021-01-02', '2021-01-03', '2021-01-04',\n",
      "               '2021-01-05'],\n",
      "              dtype='datetime64[ns]', freq='D')\n",
      "DatetimeIndex(['2011-01-31', '2011-02-28', '2011-03-31', '2011-04-30',\n",
      "               '2011-05-31'],\n",
      "              dtype='datetime64[ns]', freq='M')\n"
     ]
    }
   ],
   "source": [
    "print(pd.date_range('1/1/2021', periods=5))  \n",
    "#Creating the date series by specifying the period,By default, the frequency of range is Days.\n",
    "print(pd.date_range('1/1/2011', periods=5,freq='M'))  # changing the frequency"
   ]
  },
  {
   "cell_type": "markdown",
   "metadata": {},
   "source": [
    "# Time Delta"
   ]
  },
  {
   "cell_type": "code",
   "execution_count": 68,
   "metadata": {},
   "outputs": [
    {
     "name": "stdout",
     "output_type": "stream",
     "text": [
      "2 days 02:15:30\n",
      "0 days 06:00:00\n",
      "2 days 00:00:00\n"
     ]
    }
   ],
   "source": [
    "# differences in times, expressed in difference units, for example, days, hours, minutes, seconds\n",
    "\n",
    "print(pd.Timedelta('2 days 2 hours 15 minutes 30 seconds'))\n",
    "print(pd.Timedelta(6,unit='h'))   # units = hours\n",
    "print(pd.Timedelta(days=2))"
   ]
  },
  {
   "cell_type": "markdown",
   "metadata": {},
   "source": [
    "# Basic Plotting"
   ]
  },
  {
   "cell_type": "code",
   "execution_count": 82,
   "metadata": {},
   "outputs": [
    {
     "name": "stdout",
     "output_type": "stream",
     "text": [
      "          A         B\n",
      "a  0.545780  0.205284\n",
      "b  0.792695  0.359266\n",
      "c  0.004894  0.965344\n",
      "d  0.480436  0.333435\n",
      "f  0.309366  0.272065\n"
     ]
    },
    {
     "data": {
      "text/plain": [
       "array([<matplotlib.axes._subplots.AxesSubplot object at 0x000002B3EA79D9D0>,\n",
       "       <matplotlib.axes._subplots.AxesSubplot object at 0x000002B3EA7E20A0>],\n",
       "      dtype=object)"
      ]
     },
     "execution_count": 82,
     "metadata": {},
     "output_type": "execute_result"
    },
    {
     "data": {
      "image/png": "[encoded data removed]",
      "text/plain": [
       "<Figure size 432x288 with 1 Axes>"
      ]
     },
     "metadata": {
      "needs_background": "light"
     },
     "output_type": "display_data"
    },
    {
     "data": {
      "image/png": "[encoded data removed]",
      "text/plain": [
       "<Figure size 432x288 with 1 Axes>"
      ]
     },
     "metadata": {
      "needs_background": "light"
     },
     "output_type": "display_data"
    },
    {
     "data": {
      "image/png": "[encoded data removed]",
      "text/plain": [
       "<Figure size 432x288 with 1 Axes>"
      ]
     },
     "metadata": {
      "needs_background": "light"
     },
     "output_type": "display_data"
    },
    {
     "data": {
      "image/png": "[encoded data removed]",
      "text/plain": [
       "<Figure size 432x288 with 1 Axes>"
      ]
     },
     "metadata": {
      "needs_background": "light"
     },
     "output_type": "display_data"
    },
    {
     "data": {
      "image/png": "[encoded data removed]",
      "text/plain": [
       "<Figure size 432x288 with 2 Axes>"
      ]
     },
     "metadata": {},
     "output_type": "display_data"
    }
   ],
   "source": [
    "plotting = pd.DataFrame(np.random.rand(5,2),index=['a','b','c','d','f'], columns=list('AB'))\n",
    "print(plotting)\n",
    "plotting.plot()\n",
    "plotting.plot.bar()  # Bars\n",
    "plotting.plot.barh(stacked = True)\n",
    "plotting.plot.scatter(x = 'A', y = 'B')  # Sactter plot\n",
    "plotting.plot.pie(subplots=True)"
   ]
  }
 ],
 "metadata": {
  "kernelspec": {
   "display_name": "Python 3",
   "language": "python",
   "name": "python3"
  },
  "language_info": {
   "codemirror_mode": {
    "name": "ipython",
    "version": 3
   },
   "file_extension": ".py",
   "mimetype": "text/x-python",
   "name": "python",
   "nbconvert_exporter": "python",
   "pygments_lexer": "ipython3",
   "version": "3.8.3"
  }
 },
 "nbformat": 4,
 "nbformat_minor": 4
}
